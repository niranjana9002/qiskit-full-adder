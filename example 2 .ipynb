{
 "cells": [
  {
   "cell_type": "code",
   "execution_count": 22,
   "id": "ec91482e",
   "metadata": {},
   "outputs": [],
   "source": [
    "#to add the first example\n",
    "from qiskit import *\n",
    "from qiskit.tools.visualization import plot_histogram"
   ]
  },
  {
   "cell_type": "code",
   "execution_count": 23,
   "id": "a2d2f14f",
   "metadata": {},
   "outputs": [
    {
     "data": {
      "text/plain": [
       "<qiskit.circuit.instructionset.InstructionSet at 0x7f118c3b5e10>"
      ]
     },
     "execution_count": 23,
     "metadata": {},
     "output_type": "execute_result"
    }
   ],
   "source": [
    "q = QuantumRegister(13,'q')   \n",
    "c = ClassicalRegister(5,'c')\n",
    "qc = QuantumCircuit(q,c)\n",
    "                   \n",
    "                   \n",
    "\n",
    "\n",
    "#qc.x(q[0]) #uncomment to make a0=1\n",
    "qc.x(q[4]) #a1\n",
    "#qc.x(q[7]) #a2\n",
    "#qc.x(q[10]) #a3\n",
    "\n",
    "qc.x(q[1]) #b0\n",
    "qc.x(q[5]) #b1\n",
    "#qc.x(q[8]) #b2\n",
    "qc.x(q[11]) #b3\n",
    "\n",
    "#qc.x(q[2]) #cin=0, setting input carry as zero\n",
    "\n",
    "\n"
   ]
  },
  {
   "cell_type": "code",
   "execution_count": null,
   "id": "6780607b",
   "metadata": {},
   "outputs": [],
   "source": []
  },
  {
   "cell_type": "code",
   "execution_count": 24,
   "id": "3ec46785",
   "metadata": {},
   "outputs": [],
   "source": [
    "def full_adder(a,b,cin,cout):  #defining a full adder function\n",
    "    qc.ccx(a,b,cout)\n",
    "    qc.ccx(b,cin,cout)\n",
    "    qc.ccx(cin,a,cout)   #finding carry\n",
    "    qc.cx(a,b)\n",
    "    qc.cx(b,cin)   #finding sum\n",
    "    "
   ]
  },
  {
   "cell_type": "code",
   "execution_count": 25,
   "id": "82dfcfee",
   "metadata": {},
   "outputs": [
    {
     "data": {
      "text/plain": [
       "<qiskit.circuit.instructionset.InstructionSet at 0x7f118c3b6cb0>"
      ]
     },
     "execution_count": 25,
     "metadata": {},
     "output_type": "execute_result"
    }
   ],
   "source": [
    "#calling the full adder function to find sum\n",
    "full_adder(q[0],q[1],q[2],q[3])\n",
    "full_adder(q[3],q[4],q[5],q[6])\n",
    "full_adder(q[6],q[7],q[8],q[9])\n",
    "full_adder(q[9],q[10],q[11],q[12])\n",
    "\n",
    "\n",
    "qc.measure(q[2],c[0])\n",
    "qc.measure(q[5],c[1])\n",
    "qc.measure(q[8],c[2])\n",
    "qc.measure(q[11],c[3])\n",
    "qc.measure(q[12],c[4])\n",
    "\n",
    "\n"
   ]
  },
  {
   "cell_type": "code",
   "execution_count": 26,
   "id": "e0efc1b1",
   "metadata": {},
   "outputs": [
    {
     "data": {
      "image/png": "[encoded data removed]",
      "text/plain": [
       "<Figure size 700x500 with 1 Axes>"
      ]
     },
     "execution_count": 26,
     "metadata": {},
     "output_type": "execute_result"
    }
   ],
   "source": [
    "result = execute(qc,Aer.get_backend('qasm_simulator')).result()\n",
    "\n",
    "plot_histogram(result.get_counts(qc))\n",
    "\n",
    "\n"
   ]
  },
  {
   "cell_type": "code",
   "execution_count": 16,
   "id": "d9351e91",
   "metadata": {},
   "outputs": [
    {
     "ename": "AttributeError",
     "evalue": "'Counts' object has no attribute 'get_counts'",
     "output_type": "error",
     "traceback": [
      "\u001b[0;31m---------------------------------------------------------------------------\u001b[0m",
      "\u001b[0;31mAttributeError\u001b[0m                            Traceback (most recent call last)",
      "Cell \u001b[0;32mIn[16], line 1\u001b[0m\n\u001b[0;32m----> 1\u001b[0m result \u001b[38;5;241m=\u001b[39m \u001b[43mresult\u001b[49m\u001b[38;5;241;43m.\u001b[39;49m\u001b[43mget_counts\u001b[49m()\n\u001b[1;32m      2\u001b[0m \u001b[38;5;28mprint\u001b[39m(result)\n",
      "\u001b[0;31mAttributeError\u001b[0m: 'Counts' object has no attribute 'get_counts'"
     ]
    }
   ],
   "source": [
    "result = result.get_counts()\n",
    "print(result)\n"
   ]
  },
  {
   "cell_type": "code",
   "execution_count": null,
   "id": "d8b679dc",
   "metadata": {},
   "outputs": [],
   "source": [
    "\n",
    "\n"
   ]
  },
  {
   "cell_type": "code",
   "execution_count": null,
   "id": "01d3c98d",
   "metadata": {},
   "outputs": [],
   "source": []
  },
  {
   "cell_type": "code",
   "execution_count": null,
   "id": "e7b4abe8",
   "metadata": {},
   "outputs": [],
   "source": []
  },
  {
   "cell_type": "code",
   "execution_count": null,
   "id": "de529382",
   "metadata": {},
   "outputs": [],
   "source": []
  },
  {
   "cell_type": "code",
   "execution_count": null,
   "id": "405ae5e1",
   "metadata": {},
   "outputs": [],
   "source": []
  },
  {
   "cell_type": "code",
   "execution_count": null,
   "id": "aa198445",
   "metadata": {},
   "outputs": [],
   "source": []
  }
 ],
 "metadata": {
  "kernelspec": {
   "display_name": "Python 3 (ipykernel)",
   "language": "python",
   "name": "python3"
  },
  "language_info": {
   "codemirror_mode": {
    "name": "ipython",
    "version": 3
   },
   "file_extension": ".py",
   "mimetype": "text/x-python",
   "name": "python",
   "nbconvert_exporter": "python",
   "pygments_lexer": "ipython3",
   "version": "3.10.9"
  }
 },
 "nbformat": 4,
 "nbformat_minor": 5
}
